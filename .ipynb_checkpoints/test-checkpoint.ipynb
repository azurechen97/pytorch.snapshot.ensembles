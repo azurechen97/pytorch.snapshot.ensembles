{
 "cells": [
  {
   "cell_type": "code",
   "execution_count": 1,
   "metadata": {
    "ExecuteTime": {
     "end_time": "2021-12-09T07:56:48.244049Z",
     "start_time": "2021-12-09T07:56:35.814143Z"
    }
   },
   "outputs": [],
   "source": [
    "from math import pi\n",
    "from math import cos\n",
    "\n",
    "import torch\n",
    "import torch.nn as nn\n",
    "import torch.nn.functional as F\n",
    "import torch.optim as optim\n",
    "from torchvision import datasets, transforms\n",
    "\n",
    "import visdom\n",
    "import numpy as np\n",
    "\n",
    "from collections import Counter\n",
    "\n",
    "import pickle\n",
    "\n",
    "import copy"
   ]
  },
  {
   "cell_type": "code",
   "execution_count": 2,
   "metadata": {
    "ExecuteTime": {
     "end_time": "2021-12-09T07:56:50.485580Z",
     "start_time": "2021-12-09T07:56:48.245050Z"
    }
   },
   "outputs": [
    {
     "name": "stdout",
     "output_type": "stream",
     "text": [
      "Files already downloaded and verified\n"
     ]
    }
   ],
   "source": [
    "cuda = torch.cuda.is_available()\n",
    "batch_size = 64\n",
    "\n",
    "# load data\n",
    "transform = transforms.Compose([transforms.ToTensor(),\n",
    "                                transforms.Normalize(\n",
    "                                    (0.5, 0.5, 0.5), (0.5, 0.5, 0.5)),\n",
    "                                ])\n",
    "train_loader = torch.utils.data.DataLoader(\n",
    "    datasets.CIFAR10('data/cifar10', train=True, download=True,\n",
    "                     transform=transform),\n",
    "    batch_size=batch_size, shuffle=True)\n",
    "test_loader = torch.utils.data.DataLoader(\n",
    "    datasets.CIFAR10('data/cifar10', train=False, transform=transform),\n",
    "    batch_size=batch_size, shuffle=True)\n"
   ]
  },
  {
   "cell_type": "code",
   "execution_count": 3,
   "metadata": {
    "ExecuteTime": {
     "end_time": "2021-12-09T07:56:50.501594Z",
     "start_time": "2021-12-09T07:56:50.486579Z"
    }
   },
   "outputs": [],
   "source": [
    "class Net(nn.Module):\n",
    "    def __init__(self):\n",
    "        super(Net, self).__init__()\n",
    "        self.conv1 = nn.Conv2d(in_channels=3, out_channels=32,\n",
    "                               kernel_size=5,\n",
    "                               stride=1)\n",
    "        self.conv2 = nn.Conv2d(32, 64, kernel_size=3)\n",
    "        self.conv2_bn = nn.BatchNorm2d(64)\n",
    "        self.conv3 = nn.Conv2d(64, 64, kernel_size=3)\n",
    "        self.conv3_bn = nn.BatchNorm2d(64)\n",
    "        self.dense1 = nn.Linear(in_features=4 * 64, out_features=128)\n",
    "        self.dense1_bn = nn.BatchNorm1d(128)\n",
    "        self.dense2 = nn.Linear(128, 10)\n",
    "\n",
    "    def forward(self, x):\n",
    "        x = F.relu(F.max_pool2d(self.conv1(x), 2))\n",
    "        x = F.relu(F.max_pool2d(self.conv2_bn(self.conv2(x)), 2))\n",
    "        x = F.relu(F.max_pool2d(self.conv3_bn(self.conv3(x)), 2))\n",
    "        x = x.view(-1, 4 * 64)\n",
    "        x = F.relu(self.dense1_bn(self.dense1(x)))\n",
    "        x = F.log_softmax(self.dense2(x), dim=1)  # NLL loss expects log_softmax\n",
    "        return x\n"
   ]
  },
  {
   "cell_type": "code",
   "execution_count": 4,
   "metadata": {
    "ExecuteTime": {
     "end_time": "2021-12-09T07:56:50.517597Z",
     "start_time": "2021-12-09T07:56:50.502594Z"
    }
   },
   "outputs": [],
   "source": [
    "def proposed_lr(initial_lr, iteration, epoch_per_cycle):\n",
    "    # proposed learning late function\n",
    "    return initial_lr * (cos(pi * iteration / epoch_per_cycle) + 1) / 2\n"
   ]
  },
  {
   "cell_type": "code",
   "execution_count": 5,
   "metadata": {
    "ExecuteTime": {
     "end_time": "2021-12-09T07:56:50.533601Z",
     "start_time": "2021-12-09T07:56:50.518597Z"
    }
   },
   "outputs": [],
   "source": [
    "def train_se(model, epochs, cycles, initial_lr, vis=None):\n",
    "    \"\"\"\n",
    "    during an iteration a batch goes forward and backward  \n",
    "    while during an epoch every batch of a data set is processed\n",
    "    \"\"\"\n",
    "    snapshots = []\n",
    "    _lr_list, _loss_list = [], []\n",
    "    count = 0\n",
    "    epochs_per_cycle = epochs // cycles\n",
    "    optimizer = optim.SGD(model.parameters(), lr=initial_lr)\n",
    "\n",
    "    for i in range(cycles):\n",
    "\n",
    "        for j in range(epochs_per_cycle):\n",
    "            _epoch_loss = 0\n",
    "\n",
    "            lr = proposed_lr(initial_lr, j, epochs_per_cycle)\n",
    "            optimizer.param_groups[0]['lr'] = lr\n",
    "\n",
    "            for batch_idx, (data, target) in enumerate(train_loader):\n",
    "                if cuda:\n",
    "                    data, target = data.cuda(), target.cuda()\n",
    "\n",
    "                optimizer.zero_grad()\n",
    "                output = model(data)\n",
    "                loss = F.nll_loss(output, target)\n",
    "                _epoch_loss += loss.data/len(train_loader)\n",
    "                loss.backward()\n",
    "                optimizer.step()\n",
    "\n",
    "            print(optimizer.param_groups[0]['lr'])\n",
    "            _lr_list.append(optimizer.param_groups[0]['lr'])\n",
    "            _loss_list.append(_epoch_loss.cpu())\n",
    "            count += 1\n",
    "\n",
    "            if vis is not None and j % 10 == 9:\n",
    "                vis.line(np.array(_lr_list), np.arange(count), win=\"lr\",\n",
    "                         opts=dict(title=\"learning rate\",\n",
    "                                   xlabel=\"epochs\",\n",
    "                                   ylabel=\"learning rate (s.e.)\"))\n",
    "                vis.line(np.array(_loss_list), np.arange(count),  win=\"loss\",\n",
    "                         opts=dict(title=\"loss\",\n",
    "                                   xlabel=\"epochs\",\n",
    "                                   ylabel=\"training loss (s.e.)\"))\n",
    "                vis.line(np.array(_loss_list), np.arange(count),  win=\"loss (log)\",\n",
    "                         opts=dict(title=\"loss (log)\",\n",
    "                                   xlabel=\"epochs\",\n",
    "                                   ylabel=\"training loss (s.e.)\",\n",
    "                                   ytype=\"log\"))\n",
    "\n",
    "        snapshots.append(copy.deepcopy(model.state_dict()))\n",
    "    return snapshots\n"
   ]
  },
  {
   "cell_type": "code",
   "execution_count": 6,
   "metadata": {
    "ExecuteTime": {
     "end_time": "2021-12-09T07:56:50.549605Z",
     "start_time": "2021-12-09T07:56:50.535603Z"
    }
   },
   "outputs": [],
   "source": [
    "def train_se_loss(model, epochs, cycles, initial_lr, vis=None):\n",
    "    \"\"\"\n",
    "    during an iteration a batch goes forward and backward  \n",
    "    while during an epoch every batch of a data set is processed\n",
    "    \"\"\"\n",
    "    snapshots = []\n",
    "    loss_snapshots = []\n",
    "    _lr_list, _loss_list = [], []\n",
    "    count = 0\n",
    "    epochs_per_cycle = epochs // cycles\n",
    "    optimizer = optim.SGD(model.parameters(), lr=initial_lr)\n",
    "\n",
    "    for i in range(cycles):\n",
    "\n",
    "        for j in range(epochs_per_cycle):\n",
    "            _epoch_loss = 0\n",
    "\n",
    "            lr = proposed_lr(initial_lr, j, epochs_per_cycle)\n",
    "            optimizer.param_groups[0]['lr'] = lr\n",
    "\n",
    "            for batch_idx, (data, target) in enumerate(train_loader):\n",
    "                if cuda:\n",
    "                    data, target = data.cuda(), target.cuda()\n",
    "\n",
    "                optimizer.zero_grad()\n",
    "                output = model(data)\n",
    "                loss = F.nll_loss(output, target)\n",
    "                _epoch_loss += loss.data/len(train_loader)\n",
    "                loss.backward()\n",
    "                optimizer.step()\n",
    "\n",
    "            _lr_list.append(lr)\n",
    "            _loss_list.append(_epoch_loss.cpu())\n",
    "            count += 1\n",
    "\n",
    "            if vis is not None and j % 10 == 9:\n",
    "                vis.line(np.array(_lr_list), np.arange(count), win=\"lr\",\n",
    "                         opts=dict(title=\"learning rate\",\n",
    "                                   xlabel=\"epochs\",\n",
    "                                   ylabel=\"learning rate (s.e.)\"))\n",
    "                vis.line(np.array(_loss_list), np.arange(count),  win=\"loss\",\n",
    "                         opts=dict(title=\"loss\",\n",
    "                                   xlabel=\"epochs\",\n",
    "                                   ylabel=\"training loss (s.e.)\"))\n",
    "                vis.line(np.array(_loss_list), np.arange(count),  win=\"loss (log)\",\n",
    "                         opts=dict(title=\"loss (log)\",\n",
    "                                   xlabel=\"epochs\",\n",
    "                                   ylabel=\"training loss (s.e.)\",\n",
    "                                   ytype=\"log\"))\n",
    "\n",
    "        snapshots.append(copy.deepcopy(model.state_dict()))\n",
    "        loss_snapshots.append(_loss_list[-1])\n",
    "    return snapshots, loss_snapshots\n"
   ]
  },
  {
   "cell_type": "code",
   "execution_count": 7,
   "metadata": {
    "ExecuteTime": {
     "end_time": "2021-12-09T07:56:50.565608Z",
     "start_time": "2021-12-09T07:56:50.550605Z"
    }
   },
   "outputs": [],
   "source": [
    "def train_se_scheduler(model, epochs, cycles, initial_lr, vis=None):\n",
    "    \"\"\"\n",
    "    during an iteration a batch goes forward and backward  \n",
    "    while during an epoch every batch of a data set is processed\n",
    "    \"\"\"\n",
    "    snapshots = []\n",
    "    loss_snapshots = []\n",
    "    _lr_list, _loss_list = [], []\n",
    "    count = 0\n",
    "    epochs_per_cycle = epochs // cycles\n",
    "    optimizer = optim.SGD(model.parameters(), lr=initial_lr)\n",
    "    scheduler = optim.lr_scheduler.CosineAnnealingWarmRestarts(\n",
    "        optimizer, epochs_per_cycle)\n",
    "    for i in range(cycles):\n",
    "\n",
    "        for j in range(epochs_per_cycle):\n",
    "            _epoch_loss = 0\n",
    "\n",
    "            for batch_idx, (data, target) in enumerate(train_loader):\n",
    "                if cuda:\n",
    "                    data, target = data.cuda(), target.cuda()\n",
    "\n",
    "                optimizer.zero_grad()\n",
    "                output = model(data)\n",
    "                loss = F.nll_loss(output, target)\n",
    "                _epoch_loss += loss.data/len(train_loader)\n",
    "                loss.backward()\n",
    "                optimizer.step()\n",
    "            scheduler.step()\n",
    "\n",
    "            _lr_list.append(scheduler.get_last_lr()[0])\n",
    "            _loss_list.append(_epoch_loss.cpu())\n",
    "            count += 1\n",
    "\n",
    "            if vis is not None and j % 10 == 9:\n",
    "                vis.line(np.array(_lr_list), np.arange(count), win=\"lr_s\",\n",
    "                         opts=dict(title=\"learning rate\",\n",
    "                                   xlabel=\"epochs\",\n",
    "                                   ylabel=\"learning rate (s.e.)\"))\n",
    "                vis.line(np.array(_loss_list), np.arange(count),  win=\"loss_s\",\n",
    "                         opts=dict(title=\"loss\",\n",
    "                                   xlabel=\"epochs\",\n",
    "                                   ylabel=\"training loss (s.e.)\"))\n",
    "                vis.line(np.array(_loss_list), np.arange(count),  win=\"loss_s (log)\",\n",
    "                         opts=dict(title=\"loss (log)\",\n",
    "                                   xlabel=\"epochs\",\n",
    "                                   ylabel=\"training loss (s.e.)\",\n",
    "                                   ytype=\"log\"))\n",
    "\n",
    "        snapshots.append(copy.deepcopy(model.state_dict()))\n",
    "        loss_snapshots.append(_loss_list[-1])\n",
    "    return snapshots, loss_snapshots\n"
   ]
  },
  {
   "cell_type": "code",
   "execution_count": 8,
   "metadata": {
    "ExecuteTime": {
     "end_time": "2021-12-09T07:56:50.581031Z",
     "start_time": "2021-12-09T07:56:50.566608Z"
    }
   },
   "outputs": [],
   "source": [
    "def test_se(Model, snapshots, use_model_num):\n",
    "    index = len(snapshots) - use_model_num\n",
    "    snapshots = snapshots[index:]\n",
    "    model_list = [Model() for _ in snapshots]\n",
    "\n",
    "    for model, weight in zip(model_list, snapshots):\n",
    "        model.load_state_dict(weight)\n",
    "        model.eval()\n",
    "        if cuda:\n",
    "            model.cuda()\n",
    "\n",
    "    test_loss = 0\n",
    "    correct = 0\n",
    "    for data, target in test_loader:\n",
    "        if cuda:\n",
    "            data, target = data.cuda(), target.cuda()\n",
    "        output_list = [model(data).unsqueeze(0) for model in model_list]\n",
    "        output = torch.mean(torch.cat(output_list), 0).squeeze()\n",
    "        test_loss += F.nll_loss(output, target).data\n",
    "        pred = output.data.max(1)[1]\n",
    "        correct += pred.eq(target.data).cpu().sum()\n",
    "\n",
    "    test_loss /= len(test_loader)\n",
    "    print('\\nTest set: Average loss: {:.4f}, Accuracy: {}/{} ({:.0f}%)\\n'.format(\n",
    "        test_loss, correct, len(test_loader.dataset),\n",
    "        100 * correct / len(test_loader.dataset)))\n",
    "\n",
    "    return test_loss\n"
   ]
  },
  {
   "cell_type": "code",
   "execution_count": 9,
   "metadata": {
    "ExecuteTime": {
     "end_time": "2021-12-09T07:56:50.596033Z",
     "start_time": "2021-12-09T07:56:50.582031Z"
    }
   },
   "outputs": [],
   "source": [
    "def test_se_loss(Model, snapshots, loss_snapshots, use_model_num):\n",
    "    # use the models with least losses\n",
    "    loss_snapshots = np.array(loss_snapshots)\n",
    "    index = np.argpartition(loss_snapshots, use_model_num)[:use_model_num]\n",
    "    snapshots = [snapshots[i] for i in index]\n",
    "    model_list = [Model() for _ in snapshots]\n",
    "\n",
    "    for model, weight in zip(model_list, snapshots):\n",
    "        model.load_state_dict(weight)\n",
    "        model.eval()\n",
    "        if cuda:\n",
    "            model.cuda()\n",
    "\n",
    "    test_loss = 0\n",
    "    correct = 0\n",
    "    for data, target in test_loader:\n",
    "        if cuda:\n",
    "            data, target = data.cuda(), target.cuda()\n",
    "        output_list = [model(data).unsqueeze(0) for model in model_list]\n",
    "        output = torch.mean(torch.cat(output_list), 0).squeeze()\n",
    "        test_loss += F.nll_loss(output, target).data\n",
    "        pred = output.data.max(1)[1]\n",
    "        correct += pred.eq(target.data).cpu().sum()\n",
    "\n",
    "    test_loss /= len(test_loader)\n",
    "    print('\\nTest set: Average loss: {:.4f}, Accuracy: {}/{} ({:.0f}%)\\n'.format(\n",
    "        test_loss, correct, len(test_loader.dataset),\n",
    "        100 * correct / len(test_loader.dataset)))\n",
    "\n",
    "    return test_loss\n"
   ]
  },
  {
   "cell_type": "code",
   "execution_count": 10,
   "metadata": {
    "ExecuteTime": {
     "end_time": "2021-12-09T07:56:50.612037Z",
     "start_time": "2021-12-09T07:56:50.597034Z"
    }
   },
   "outputs": [],
   "source": [
    "def test_se_vote(Model, snapshots, use_model_num):\n",
    "    index = len(snapshots) - use_model_num\n",
    "    snapshots = snapshots[index:]\n",
    "    model_list = [Model() for _ in snapshots]\n",
    "\n",
    "    for model, weight in zip(model_list, snapshots):\n",
    "        model.load_state_dict(weight)\n",
    "        model.eval()\n",
    "        if cuda:\n",
    "            model.cuda()\n",
    "\n",
    "    test_loss = 0\n",
    "    correct = 0\n",
    "    for data, target in test_loader:\n",
    "        if cuda:\n",
    "            data, target = data.cuda(), target.cuda()\n",
    "        output_list = [model(data).unsqueeze(0) for model in model_list]\n",
    "        output = torch.mean(torch.cat(output_list), 0).squeeze()\n",
    "        test_loss += F.nll_loss(output, target).data\n",
    "        pred_list = [item.data.max(1)[1] for item in output_list]\n",
    "        counter = Counter(pred_list)\n",
    "        pred = counter.most_common(1)[0][0] #most vote\n",
    "        correct += pred.eq(target.data).cpu().sum()\n",
    "\n",
    "    test_loss /= len(test_loader)\n",
    "    print('\\nTest set: Average loss: {:.4f}, Accuracy: {}/{} ({:.0f}%)\\n'.format(\n",
    "        test_loss, correct, len(test_loader.dataset),\n",
    "        100 * correct / len(test_loader.dataset)))\n",
    "\n",
    "    return test_loss"
   ]
  },
  {
   "cell_type": "code",
   "execution_count": 11,
   "metadata": {
    "ExecuteTime": {
     "end_time": "2021-12-09T07:56:50.628045Z",
     "start_time": "2021-12-09T07:56:50.613037Z"
    }
   },
   "outputs": [],
   "source": [
    "def train_normal(model, epochs, vis=None):\n",
    "\n",
    "    optimizer = optim.Adam(model.parameters())\n",
    "    _lr_list, _loss_list = [], []\n",
    "    count = 0\n",
    "    for epoch in range(epochs):\n",
    "        _epoch_loss = 0\n",
    "        for batch_idx, (data, target) in enumerate(train_loader):\n",
    "            if cuda:\n",
    "                data, target = data.cuda(), target.cuda()\n",
    "\n",
    "            optimizer.zero_grad()\n",
    "            output = model(data)\n",
    "            loss = F.nll_loss(output, target)\n",
    "            _epoch_loss += loss.data / len(train_loader)\n",
    "            loss.backward()\n",
    "            optimizer.step()\n",
    "\n",
    "        _loss_list.append(_epoch_loss.cpu())\n",
    "        _lr_list.append(optimizer.param_groups[0]['lr'])\n",
    "        count+=1\n",
    "\n",
    "        if vis is not None and epoch % 10 == 9:\n",
    "            vis.line(np.array(_lr_list), np.arange(epoch+1), win=\"lr_n\",\n",
    "                     opts=dict(title=\"learning rate\",\n",
    "                               xlabel=\"epochs\",\n",
    "                               ylabel=\"learning rate (normal)\"))\n",
    "            vis.line(np.array(_loss_list), np.arange(epoch+1), win=\"loss_n\",\n",
    "                     opts=dict(title=\"loss\",\n",
    "                               xlabel=\"epochs\",\n",
    "                               ylabel=\"training loss (normal)\"))\n",
    "            vis.line(np.array(_loss_list), np.arange(count),  win=\"loss_n (log)\",\n",
    "                         opts=dict(title=\"loss (log)\",\n",
    "                                   xlabel=\"epochs\",\n",
    "                                   ylabel=\"training loss (normal)\",\n",
    "                                   ytype=\"log\"))\n",
    "\n",
    "    return model\n"
   ]
  },
  {
   "cell_type": "code",
   "execution_count": 12,
   "metadata": {
    "ExecuteTime": {
     "end_time": "2021-12-09T07:56:50.644057Z",
     "start_time": "2021-12-09T07:56:50.629046Z"
    }
   },
   "outputs": [],
   "source": [
    "def test_normal(model):\n",
    "\n",
    "    test_loss = 0\n",
    "    correct = 0\n",
    "    for data, target in test_loader:\n",
    "        if cuda:\n",
    "            data, target = data.cuda(), target.cuda()\n",
    "        output = model(data)\n",
    "        test_loss += F.nll_loss(output, target).data\n",
    "        pred = output.data.max(1)[1]\n",
    "        correct += pred.eq(target.data).cpu().sum()\n",
    "\n",
    "    test_loss /= len(test_loader)\n",
    "    print('\\nTest set: Average loss: {:.4f}, Accuracy: {}/{} ({:.0f}%)\\n'.format(\n",
    "        test_loss, correct, len(test_loader.dataset),\n",
    "        100 * correct / len(test_loader.dataset)))\n",
    "\n",
    "    return test_loss\n"
   ]
  },
  {
   "cell_type": "code",
   "execution_count": 13,
   "metadata": {
    "ExecuteTime": {
     "end_time": "2021-12-09T08:49:39.513476Z",
     "start_time": "2021-12-09T07:56:50.645057Z"
    }
   },
   "outputs": [
    {
     "name": "stderr",
     "output_type": "stream",
     "text": [
      "Setting up a new session...\n"
     ]
    },
    {
     "name": "stdout",
     "output_type": "stream",
     "text": [
      "snapshot ensemble\n",
      "---\n"
     ]
    },
    {
     "ename": "NameError",
     "evalue": "name 'count' is not defined",
     "output_type": "error",
     "traceback": [
      "\u001b[1;31m---------------------------------------------------------------------------\u001b[0m",
      "\u001b[1;31mNameError\u001b[0m                                 Traceback (most recent call last)",
      "\u001b[1;32m~\\AppData\\Local\\Temp/ipykernel_14600/773463986.py\u001b[0m in \u001b[0;36m<module>\u001b[1;34m\u001b[0m\n\u001b[0;32m     13\u001b[0m \u001b[0mprint\u001b[0m\u001b[1;33m(\u001b[0m\u001b[1;34m\"---\"\u001b[0m\u001b[1;33m)\u001b[0m\u001b[1;33m\u001b[0m\u001b[1;33m\u001b[0m\u001b[0m\n\u001b[0;32m     14\u001b[0m \u001b[1;31m# print(\"normal way\")\u001b[0m\u001b[1;33m\u001b[0m\u001b[1;33m\u001b[0m\u001b[0m\n\u001b[1;32m---> 15\u001b[1;33m \u001b[0mnormal_model\u001b[0m \u001b[1;33m=\u001b[0m \u001b[0mtrain_normal\u001b[0m\u001b[1;33m(\u001b[0m\u001b[0mmodel2\u001b[0m\u001b[1;33m,\u001b[0m \u001b[1;36m300\u001b[0m\u001b[1;33m,\u001b[0m \u001b[0mvis\u001b[0m\u001b[1;33m)\u001b[0m\u001b[1;33m\u001b[0m\u001b[1;33m\u001b[0m\u001b[0m\n\u001b[0m\u001b[0;32m     16\u001b[0m \u001b[0mtorch\u001b[0m\u001b[1;33m.\u001b[0m\u001b[0msave\u001b[0m\u001b[1;33m(\u001b[0m\u001b[0mnormal_model\u001b[0m\u001b[1;33m,\u001b[0m \u001b[1;34m\"save/normal-300.pt\"\u001b[0m\u001b[1;33m)\u001b[0m\u001b[1;33m\u001b[0m\u001b[1;33m\u001b[0m\u001b[0m\n\u001b[0;32m     17\u001b[0m \u001b[0mtest_normal\u001b[0m\u001b[1;33m(\u001b[0m\u001b[0mnormal_model\u001b[0m\u001b[1;33m)\u001b[0m\u001b[1;33m\u001b[0m\u001b[1;33m\u001b[0m\u001b[0m\n",
      "\u001b[1;32m~\\AppData\\Local\\Temp/ipykernel_14600/2682182778.py\u001b[0m in \u001b[0;36mtrain_normal\u001b[1;34m(model, epochs, vis)\u001b[0m\n\u001b[0;32m     28\u001b[0m                                \u001b[0mxlabel\u001b[0m\u001b[1;33m=\u001b[0m\u001b[1;34m\"epochs\"\u001b[0m\u001b[1;33m,\u001b[0m\u001b[1;33m\u001b[0m\u001b[1;33m\u001b[0m\u001b[0m\n\u001b[0;32m     29\u001b[0m                                ylabel=\"training loss (normal)\"))\n\u001b[1;32m---> 30\u001b[1;33m             vis.line(np.array(_loss_list), np.arange(count),  win=\"loss_n (log)\",\n\u001b[0m\u001b[0;32m     31\u001b[0m                          opts=dict(title=\"loss (log)\",\n\u001b[0;32m     32\u001b[0m                                    \u001b[0mxlabel\u001b[0m\u001b[1;33m=\u001b[0m\u001b[1;34m\"epochs\"\u001b[0m\u001b[1;33m,\u001b[0m\u001b[1;33m\u001b[0m\u001b[1;33m\u001b[0m\u001b[0m\n",
      "\u001b[1;31mNameError\u001b[0m: name 'count' is not defined"
     ]
    }
   ],
   "source": [
    "vis = visdom.Visdom(port=6006)\n",
    "model1, model2 = Net(), Net()\n",
    "# model1 = Net()\n",
    "if cuda:\n",
    "    model1.cuda()\n",
    "    model2.cuda()\n",
    "print(\"snapshot ensemble\")\n",
    "models1, losses1 = train_se_loss(model1, 300, 6, 0.1, vis)\n",
    "pickle.dump((models1,losses1), open(\"save/se-original-300-6-0.1.p\", \"wb\"))\n",
    "# models = train_se(model1, 300, 6, 0.1, vis)\n",
    "# models, losses = train_se_scheduler(model1, 300, 6, 1, vis)\n",
    "print(\"---\")\n",
    "# print(\"normal way\")\n",
    "normal_model = train_normal(model2, 300, vis)\n",
    "torch.save(normal_model, \"save/normal-300.pt\")\n",
    "test_normal(normal_model)\n"
   ]
  },
  {
   "cell_type": "code",
   "execution_count": null,
   "metadata": {
    "ExecuteTime": {
     "end_time": "2021-12-09T08:49:39.514476Z",
     "start_time": "2021-12-09T08:49:39.514476Z"
    }
   },
   "outputs": [],
   "source": [
    "print(\"snapshot ensemble (original)\")\n",
    "test_se(Net, models1, 5)\n",
    "print(\"---\")\n",
    "print(\"snapshot ensemble (min loss)\")\n",
    "test_se_loss(Net, models1, losses1, 5)\n",
    "print(\"---\")\n",
    "print(\"snapshot ensemble (vote)\")\n",
    "test_se_vote(Net, models1, 5)\n"
   ]
  }
 ],
 "metadata": {
  "interpreter": {
   "hash": "fd034ed54560f0698c2946b7ca675e493afbd7ee3c0ecf162ae3deac3cf4477b"
  },
  "kernelspec": {
   "display_name": "Python 3 (ipykernel)",
   "language": "python",
   "name": "python3"
  },
  "language_info": {
   "codemirror_mode": {
    "name": "ipython",
    "version": 3
   },
   "file_extension": ".py",
   "mimetype": "text/x-python",
   "name": "python",
   "nbconvert_exporter": "python",
   "pygments_lexer": "ipython3",
   "version": "3.9.7"
  },
  "toc": {
   "base_numbering": 1,
   "nav_menu": {},
   "number_sections": true,
   "sideBar": true,
   "skip_h1_title": false,
   "title_cell": "Table of Contents",
   "title_sidebar": "Contents",
   "toc_cell": false,
   "toc_position": {},
   "toc_section_display": true,
   "toc_window_display": false
  }
 },
 "nbformat": 4,
 "nbformat_minor": 2
}
